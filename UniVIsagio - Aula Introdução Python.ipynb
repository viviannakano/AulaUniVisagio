{
 "cells": [
  {
   "cell_type": "markdown",
   "metadata": {},
   "source": [
    "# Introdução ao Python para análise de dados"
   ]
  },
  {
   "cell_type": "markdown",
   "metadata": {},
   "source": [
    "### O objetivo desta aula é apresentar, de forma direcionada, a linguagem Python para que possamos desenvolver modelos de Machine Learning."
   ]
  },
  {
   "cell_type": "markdown",
   "metadata": {},
   "source": [
    "#### Agenda\n",
    "<ul style=\"list-style-type:disc\">\n",
    "  <li>Operações básicas e operadores lógicos</li>\n",
    "  <li>Strings</li>\n",
    "\n",
    "\n",
    "  <li>Estruturas de dados</li>\n",
    "    <ul style=\"list-style-type:circle\">\n",
    "      <li>Listas</li>\n",
    "        <li>Dicionários</li>\n",
    "        <li>Tuple</li>\n",
    "        <li>Set</li>\n",
    "    </ul>\n",
    "  <li>Controle de Fluxo</li>\n",
    "    <ul style=\"list-style-type:circle\">\n",
    "      <li>If...Else...Elif</li>\n",
    "      <li>For</li>\n",
    "      <li>While</li>\n",
    "    </ul>  \n",
    "  <li>Funções</li>  \n",
    "  <li>Lambda Expressions</li>\n",
    "  <li>Built-in Functions</li>\n",
    "  <li>List Comprehensions</li>  \n",
    "  <li>Medindo o tempo de execução</li>\n",
    "    \n",
    "</ul>"
   ]
  },
  {
   "cell_type": "markdown",
   "metadata": {},
   "source": [
    "## Operações básicas e operadores lógicos"
   ]
  },
  {
   "cell_type": "code",
   "execution_count": 1,
   "metadata": {},
   "outputs": [
    {
     "name": "stdout",
     "output_type": "stream",
     "text": [
      "O valores foram:\n",
      " soma 6, \n",
      " subtração 4.0, \n",
      " multiplicação 40, \n",
      " divisão 5.0, \n",
      " divisão inteira 5 e \n",
      " resto 2\n"
     ]
    }
   ],
   "source": [
    "#Soma / Subtração / Multiplicação / Divisão\n",
    "\n",
    "soma = 5 + 1\n",
    "sub = 5.5 - 1.5\n",
    "mult = 10*4\n",
    "div1 = 20 / 4\n",
    "div2 = 20 // 4\n",
    "resto = 10 % 8\n",
    "\n",
    "\n",
    "print(\"O valores foram:\\n soma {}, \\n subtração {}, \\n multiplicação {}, \\n divisão {}, \\n divisão inteira {} e \\n resto {}\".format(soma,sub,mult,div1,div2,resto))"
   ]
  },
  {
   "cell_type": "code",
   "execution_count": 2,
   "metadata": {},
   "outputs": [
    {
     "data": {
      "text/plain": [
       "True"
      ]
     },
     "execution_count": 2,
     "metadata": {},
     "output_type": "execute_result"
    }
   ],
   "source": [
    "2 != 3"
   ]
  },
  {
   "cell_type": "code",
   "execution_count": 3,
   "metadata": {},
   "outputs": [
    {
     "data": {
      "text/plain": [
       "True"
      ]
     },
     "execution_count": 3,
     "metadata": {},
     "output_type": "execute_result"
    }
   ],
   "source": [
    "1 < 2 < 3"
   ]
  },
  {
   "cell_type": "code",
   "execution_count": 4,
   "metadata": {},
   "outputs": [
    {
     "data": {
      "text/plain": [
       "True"
      ]
     },
     "execution_count": 4,
     "metadata": {},
     "output_type": "execute_result"
    }
   ],
   "source": [
    "1 < 2 or 1 > 2"
   ]
  },
  {
   "cell_type": "code",
   "execution_count": 5,
   "metadata": {},
   "outputs": [
    {
     "data": {
      "text/plain": [
       "False"
      ]
     },
     "execution_count": 5,
     "metadata": {},
     "output_type": "execute_result"
    }
   ],
   "source": [
    "1 == 100 and 99 == 99"
   ]
  },
  {
   "cell_type": "code",
   "execution_count": 6,
   "metadata": {},
   "outputs": [
    {
     "data": {
      "text/plain": [
       "True"
      ]
     },
     "execution_count": 6,
     "metadata": {},
     "output_type": "execute_result"
    }
   ],
   "source": [
    "1 == 100 or 101 == 101"
   ]
  },
  {
   "cell_type": "markdown",
   "metadata": {},
   "source": [
    "## Strings"
   ]
  },
  {
   "cell_type": "code",
   "execution_count": 7,
   "metadata": {},
   "outputs": [],
   "source": [
    "ex_string = 'String 1'\n",
    "ex_string2 = \"String 2\"\n",
    "ex_string3 = \"\"\"String 3\n",
    "            em                \n",
    "            várias linhas\"\"\"\n"
   ]
  },
  {
   "cell_type": "code",
   "execution_count": 8,
   "metadata": {},
   "outputs": [
    {
     "data": {
      "text/plain": [
       "'t'"
      ]
     },
     "execution_count": 8,
     "metadata": {},
     "output_type": "execute_result"
    }
   ],
   "source": [
    "ex_string[1]"
   ]
  },
  {
   "cell_type": "code",
   "execution_count": 9,
   "metadata": {},
   "outputs": [
    {
     "data": {
      "text/plain": [
       "'trin'"
      ]
     },
     "execution_count": 9,
     "metadata": {},
     "output_type": "execute_result"
    }
   ],
   "source": [
    "ex_string[1:5]"
   ]
  },
  {
   "cell_type": "code",
   "execution_count": 10,
   "metadata": {},
   "outputs": [
    {
     "data": {
      "text/plain": [
       "'Strin'"
      ]
     },
     "execution_count": 10,
     "metadata": {},
     "output_type": "execute_result"
    }
   ],
   "source": [
    "ex_string[:5]"
   ]
  },
  {
   "cell_type": "code",
   "execution_count": 11,
   "metadata": {},
   "outputs": [
    {
     "data": {
      "text/plain": [
       "'STRING 1'"
      ]
     },
     "execution_count": 11,
     "metadata": {},
     "output_type": "execute_result"
    }
   ],
   "source": [
    "ex_string.lower()\n",
    "ex_string.upper()"
   ]
  },
  {
   "cell_type": "code",
   "execution_count": 12,
   "metadata": {},
   "outputs": [
    {
     "data": {
      "text/plain": [
       "['String', '1']"
      ]
     },
     "execution_count": 12,
     "metadata": {},
     "output_type": "execute_result"
    }
   ],
   "source": [
    "ex_string.split(' ')"
   ]
  },
  {
   "cell_type": "markdown",
   "metadata": {},
   "source": [
    "## Estruturas de dados"
   ]
  },
  {
   "cell_type": "markdown",
   "metadata": {},
   "source": [
    "#### Lista"
   ]
  },
  {
   "cell_type": "markdown",
   "metadata": {},
   "source": [
    "Estrutura de dados <b>mutável</b>, ou seja, é possível alterar os valores da lista após a sua criação."
   ]
  },
  {
   "cell_type": "code",
   "execution_count": 13,
   "metadata": {},
   "outputs": [
    {
     "data": {
      "text/plain": [
       "[1, 2, 'a', ['A']]"
      ]
     },
     "execution_count": 13,
     "metadata": {},
     "output_type": "execute_result"
    }
   ],
   "source": [
    "#Iniciando a lista\n",
    "my_list = [] #1\n",
    "my_list = list() #2\n",
    "\n",
    "my_list = [1,2,'a',['A']] #3\n",
    "my_list"
   ]
  },
  {
   "cell_type": "code",
   "execution_count": 14,
   "metadata": {},
   "outputs": [
    {
     "name": "stdout",
     "output_type": "stream",
     "text": [
      "2\n",
      "[1, 2, 'a']\n"
     ]
    }
   ],
   "source": [
    "#Selecionando\n",
    "print(my_list[1])\n",
    "print(my_list[:3])"
   ]
  },
  {
   "cell_type": "code",
   "execution_count": 15,
   "metadata": {},
   "outputs": [
    {
     "name": "stdout",
     "output_type": "stream",
     "text": [
      "[1, 2, 'a', ['A'], 5]\n"
     ]
    }
   ],
   "source": [
    "#Adicionando valores a lista\n",
    "my_list.append(5)\n",
    "print(my_list)"
   ]
  },
  {
   "cell_type": "code",
   "execution_count": 16,
   "metadata": {
    "scrolled": true
   },
   "outputs": [
    {
     "name": "stdout",
     "output_type": "stream",
     "text": [
      "[1, 2, ['A'], 5]\n",
      "[1, 2, 5]\n"
     ]
    }
   ],
   "source": [
    "#Removendo items de uma lista pela posição (lembrando que o primeiro index é 0)\n",
    "my_list.pop(2)\n",
    "print(my_list)\n",
    "#Removendo items de uma lista pelo valor\n",
    "my_list.remove(['A'])\n",
    "print(my_list)\n"
   ]
  },
  {
   "cell_type": "code",
   "execution_count": 17,
   "metadata": {},
   "outputs": [
    {
     "name": "stdout",
     "output_type": "stream",
     "text": [
      "[5, 2, 1]\n",
      "3\n"
     ]
    }
   ],
   "source": [
    "#Ordenando\n",
    "my_list.sort(reverse=True)\n",
    "print(my_list)\n",
    "#Tamanho de uma lista\n",
    "print(len(my_list))"
   ]
  },
  {
   "cell_type": "markdown",
   "metadata": {},
   "source": [
    "#### Dicionário"
   ]
  },
  {
   "cell_type": "markdown",
   "metadata": {},
   "source": [
    "Estrutura de dados <b>mutável</b>, ou seja, é possível alterar os valores do dicionário após a sua criação.\n",
    "<br>Bastante utilizado nos parâmetros de funções e classes."
   ]
  },
  {
   "cell_type": "code",
   "execution_count": 18,
   "metadata": {},
   "outputs": [
    {
     "data": {
      "text/plain": [
       "{'A': 1, 'B': 2, 'C': 3}"
      ]
     },
     "execution_count": 18,
     "metadata": {},
     "output_type": "execute_result"
    }
   ],
   "source": [
    "#Iniciando um dicionário\n",
    "my_dictionary = {} # 1\n",
    "my_dictionary = dict() #2\n",
    "\n",
    "my_dictionary = {'A':1, 'B':2, 'C':3} #3\n",
    "my_dictionary"
   ]
  },
  {
   "cell_type": "code",
   "execution_count": 19,
   "metadata": {},
   "outputs": [
    {
     "name": "stdout",
     "output_type": "stream",
     "text": [
      "2\n",
      "None\n"
     ]
    }
   ],
   "source": [
    "#Selecionando os valores por chave\n",
    "print(my_dictionary['B'])\n",
    "print(my_dictionary.get('E',None)) #Método que possibilita definir valor default caso não encontre a chave."
   ]
  },
  {
   "cell_type": "markdown",
   "metadata": {},
   "source": [
    "#### Tuple"
   ]
  },
  {
   "cell_type": "markdown",
   "metadata": {},
   "source": [
    "Estrutura de dados <b>imutável</b>, ou seja, <b>não</b> é possível alterar os valores após a sua criação.<br>\n",
    "Serve para atribuir valores, representar sequências que não precisa ordenar ou alterar seus índices."
   ]
  },
  {
   "cell_type": "code",
   "execution_count": 20,
   "metadata": {},
   "outputs": [
    {
     "data": {
      "text/plain": [
       "(1, 2, 3)"
      ]
     },
     "execution_count": 20,
     "metadata": {},
     "output_type": "execute_result"
    }
   ],
   "source": [
    "#Iniciando uma tupla\n",
    "my_tuple = () #1\n",
    "my_tuple = (1,2,3) #2\n",
    "my_tuple = 1,2,3 #3\n",
    "my_tuple"
   ]
  },
  {
   "cell_type": "code",
   "execution_count": 21,
   "metadata": {
    "scrolled": true
   },
   "outputs": [
    {
     "data": {
      "text/plain": [
       "2"
      ]
     },
     "execution_count": 21,
     "metadata": {},
     "output_type": "execute_result"
    }
   ],
   "source": [
    "#Selecionando elementos\n",
    "my_tuple[1]"
   ]
  },
  {
   "cell_type": "markdown",
   "metadata": {},
   "source": [
    "#### Set"
   ]
  },
  {
   "cell_type": "markdown",
   "metadata": {},
   "source": [
    "Estrutura de dados <b>mutável</b>, ou seja, <b>não</b> é possível alterar os valores após a sua criação.<br>\n",
    "Igual uma tupla, porém, não apresenta valores repetidos"
   ]
  },
  {
   "cell_type": "code",
   "execution_count": 22,
   "metadata": {},
   "outputs": [
    {
     "name": "stdout",
     "output_type": "stream",
     "text": [
      "{1, 2, 3}\n"
     ]
    }
   ],
   "source": [
    "my_set = set()\n",
    "my_set.add(1)\n",
    "my_set.add(2)\n",
    "my_set.add(3)\n",
    "print(my_set)"
   ]
  },
  {
   "cell_type": "code",
   "execution_count": 23,
   "metadata": {},
   "outputs": [
    {
     "name": "stdout",
     "output_type": "stream",
     "text": [
      "{1, 2, 3, 4}\n"
     ]
    }
   ],
   "source": [
    "my_set.add(4)\n",
    "my_set.add(4)\n",
    "print(my_set)"
   ]
  },
  {
   "cell_type": "code",
   "execution_count": 24,
   "metadata": {},
   "outputs": [
    {
     "name": "stdout",
     "output_type": "stream",
     "text": [
      "[1, 1, 2, 2, 3, 3, 4, 4, 5, 5]\n",
      "[1, 2, 3, 4, 5]\n"
     ]
    }
   ],
   "source": [
    "#Podemos usar set para filtrar valores únicos de uma lista\n",
    "lista_repetida = [1,1,2,2,3,3,4,4,5,5]\n",
    "print(lista_repetida)\n",
    "lista_unica = set(lista_repetida)\n",
    "print(list(lista_unica)) #se quisermos uma lista ao invés de um set, utilizamos list()"
   ]
  },
  {
   "cell_type": "markdown",
   "metadata": {},
   "source": [
    "## Controle de Fluxo"
   ]
  },
  {
   "cell_type": "markdown",
   "metadata": {},
   "source": [
    "#### If, elif, else"
   ]
  },
  {
   "cell_type": "code",
   "execution_count": 25,
   "metadata": {},
   "outputs": [
    {
     "name": "stdout",
     "output_type": "stream",
     "text": [
      "Barato!\n"
     ]
    }
   ],
   "source": [
    "price = 50\n",
    "if price <= 50:\n",
    "    print(\"Barato!\")\n",
    "elif price > 50 and price <= 100:\n",
    "    print(\"Ok!\")\n",
    "else:\n",
    "    print(\"Caro!\")"
   ]
  },
  {
   "cell_type": "code",
   "execution_count": 26,
   "metadata": {},
   "outputs": [
    {
     "name": "stdout",
     "output_type": "stream",
     "text": [
      "cinquenta!\n"
     ]
    }
   ],
   "source": [
    "#If em uma linha e operador de igualdade\n",
    "if price == 50: print(\"cinquenta!\")"
   ]
  },
  {
   "cell_type": "markdown",
   "metadata": {},
   "source": [
    "#### For"
   ]
  },
  {
   "cell_type": "markdown",
   "metadata": {},
   "source": [
    "O loop For é muito útil para <b>iterar</b> sobre objetos iteráveis (listas, strings, zip())"
   ]
  },
  {
   "cell_type": "code",
   "execution_count": 27,
   "metadata": {},
   "outputs": [
    {
     "name": "stdout",
     "output_type": "stream",
     "text": [
      "V\n",
      "i\n",
      "s\n",
      "a\n",
      "g\n",
      "i\n",
      "o\n"
     ]
    }
   ],
   "source": [
    "#Strings\n",
    "my_text = 'Visagio'\n",
    "for letter in my_text:\n",
    "    print(letter)"
   ]
  },
  {
   "cell_type": "code",
   "execution_count": 28,
   "metadata": {},
   "outputs": [
    {
     "name": "stdout",
     "output_type": "stream",
     "text": [
      "[0, 1, 2, 3, 4]\n",
      "[0, 1, 2, 3, 4, 5, 6, 7, 8, 9]\n"
     ]
    }
   ],
   "source": [
    "#Range\n",
    "my_list = []\n",
    "for item in range(5):\n",
    "    my_list.append(item)\n",
    "    \n",
    "print(my_list)\n",
    "\n",
    "\n",
    "for item in range(5,10):\n",
    "    my_list.append(item)\n",
    "    \n",
    "print(my_list)"
   ]
  },
  {
   "cell_type": "code",
   "execution_count": 29,
   "metadata": {},
   "outputs": [
    {
     "name": "stdout",
     "output_type": "stream",
     "text": [
      "0 RJ\n",
      "1 SP\n",
      "2 MG\n"
     ]
    }
   ],
   "source": [
    "#enumerate - indice,valor\n",
    "\n",
    "estados = ['RJ','SP','MG']\n",
    "\n",
    "for ind, valor in enumerate(estados):\n",
    "    print(ind,valor)    \n"
   ]
  },
  {
   "cell_type": "markdown",
   "metadata": {},
   "source": [
    "#### While"
   ]
  },
  {
   "cell_type": "code",
   "execution_count": 30,
   "metadata": {},
   "outputs": [
    {
     "name": "stdout",
     "output_type": "stream",
     "text": [
      "1\n",
      "2\n",
      "3\n",
      "4\n",
      "5\n",
      "6\n",
      "7\n",
      "8\n",
      "9\n",
      "10\n",
      "11\n"
     ]
    }
   ],
   "source": [
    "i=0\n",
    "while True:\n",
    "    i+=1\n",
    "    print(i)\n",
    "    if i > 10:break"
   ]
  },
  {
   "cell_type": "markdown",
   "metadata": {},
   "source": [
    "## Funções"
   ]
  },
  {
   "cell_type": "code",
   "execution_count": 31,
   "metadata": {},
   "outputs": [],
   "source": [
    "def calcular_media(lista):    \n",
    "    return sum(lista)/len(lista)"
   ]
  },
  {
   "cell_type": "code",
   "execution_count": 32,
   "metadata": {},
   "outputs": [
    {
     "name": "stdout",
     "output_type": "stream",
     "text": [
      "2.5\n"
     ]
    }
   ],
   "source": [
    "a=[1,2,3,4]\n",
    "print(calcular_media(a))"
   ]
  },
  {
   "cell_type": "code",
   "execution_count": 33,
   "metadata": {
    "scrolled": true
   },
   "outputs": [
    {
     "name": "stdout",
     "output_type": "stream",
     "text": [
      "(6.0, 10, 2, 5)\n",
      "5\n"
     ]
    }
   ],
   "source": [
    "#uma função pode retornar mais de 1 valor\n",
    "def calcular_posicoes(lista):    \n",
    "    return sum(lista)/len(lista), max(lista), min(lista), len(lista)\n",
    "\n",
    "a=[2,4,6,8,10]\n",
    "print(calcular_posicoes(a))\n",
    "print(calcular_posicoes(a)[3])"
   ]
  },
  {
   "cell_type": "markdown",
   "metadata": {},
   "source": [
    "## Lambda Functions"
   ]
  },
  {
   "cell_type": "markdown",
   "metadata": {},
   "source": [
    "Existe uma forma de escrever funções em apenas uma linha.<br>\n",
    "Esta forma é bastante útil quando precisa realizar alguma operação que necessitaria criar uma função. Mas esta função não é complexa o bastante (muitas linhas de código) e nem será utilizada em diversos lugares."
   ]
  },
  {
   "cell_type": "code",
   "execution_count": 34,
   "metadata": {},
   "outputs": [
    {
     "data": {
      "text/plain": [
       "'B'"
      ]
     },
     "execution_count": 34,
     "metadata": {},
     "output_type": "execute_result"
    }
   ],
   "source": [
    "lst = ['c','b','a']\n",
    "upper_func = lambda x: x.upper()\n",
    "upper_func(lst[1])"
   ]
  },
  {
   "cell_type": "markdown",
   "metadata": {},
   "source": [
    "## Built-in Functions"
   ]
  },
  {
   "cell_type": "markdown",
   "metadata": {},
   "source": [
    "Existem algumas funções bastante úteis que já vem com Python, auxiliando a manipulação de dados.<br>\n",
    "Dentre elas, iremos conhecer as funções: <b>map(), zip(), filter()</b>"
   ]
  },
  {
   "cell_type": "markdown",
   "metadata": {},
   "source": [
    "#### map()"
   ]
  },
  {
   "cell_type": "markdown",
   "metadata": {},
   "source": [
    "Aplica uma função a um objeto <b>iterável</b><br>\n",
    "map(função, iterable,...)"
   ]
  },
  {
   "cell_type": "code",
   "execution_count": 35,
   "metadata": {},
   "outputs": [
    {
     "name": "stdout",
     "output_type": "stream",
     "text": [
      "retorna um objeto iterável\n",
      "<map object at 0x05951A50>\n",
      "['impar', 'par', 'impar', 'par', 'impar', 'par', 'impar', 'par', 'impar']\n"
     ]
    }
   ],
   "source": [
    "map_list = [1,2,3,4,5,6,7,8,9]\n",
    "def calcular_resto(x):\n",
    "    if x%2 == 0: \n",
    "        return 'par'\n",
    "    else:\n",
    "        return 'impar'\n",
    "print(\"retorna um objeto iterável\")\n",
    "print(map(calcular_resto,map_list))\n",
    "print(list(map(calcular_resto,map_list)))"
   ]
  },
  {
   "cell_type": "markdown",
   "metadata": {},
   "source": [
    "#### zip()"
   ]
  },
  {
   "cell_type": "markdown",
   "metadata": {},
   "source": [
    "Itera entre objetos <b>iteráveis</b><br>\n",
    "O objeto com menor número de itens termina a função ao atingir o seu limite.<br>\n",
    "zip(*iterable)"
   ]
  },
  {
   "cell_type": "code",
   "execution_count": 36,
   "metadata": {},
   "outputs": [
    {
     "name": "stdout",
     "output_type": "stream",
     "text": [
      "('João', 23)\n",
      "João\n",
      "('Carlos', 30)\n",
      "Carlos\n",
      "('Ana', 29)\n",
      "Ana\n",
      "('Felipe', 21)\n",
      "Felipe\n",
      "('Flavia', 34)\n",
      "Flavia\n"
     ]
    }
   ],
   "source": [
    "nome = ['João','Carlos','Ana','Felipe','Flavia']\n",
    "idade = [23,30,29,21,34]\n",
    "\n",
    "for pessoa in zip(nome,idade):\n",
    "    print(pessoa)\n",
    "    print(pessoa[0])"
   ]
  },
  {
   "cell_type": "code",
   "execution_count": 37,
   "metadata": {},
   "outputs": [
    {
     "name": "stdout",
     "output_type": "stream",
     "text": [
      "[5.2, 4.2, 4.1, 2.3, 2.4, 6.7]\n"
     ]
    }
   ],
   "source": [
    "#Maior valor por periodo entre o preço de 3 produtos\n",
    "price_a = [2.5,4.2,1.8,2.3,2.1,6.7]\n",
    "price_b = [2.4,3.2,4.1,1.2,1.1,5.2]\n",
    "price_c = [5.2,1.2,2.1,1.3,2.4,3.2]\n",
    "\n",
    "resultado = list(map(lambda x: max(x),zip(price_a,price_b,price_c)))\n",
    "print(resultado)"
   ]
  },
  {
   "cell_type": "markdown",
   "metadata": {},
   "source": [
    "#### filter()"
   ]
  },
  {
   "cell_type": "markdown",
   "metadata": {},
   "source": [
    "Filtra um objeto <b>iterável</b> baseado em alguma condição<br>\n",
    "filter(function, iterable,...)"
   ]
  },
  {
   "cell_type": "code",
   "execution_count": 38,
   "metadata": {},
   "outputs": [
    {
     "data": {
      "text/plain": [
       "[4.2, 2.3, 6.7]"
      ]
     },
     "execution_count": 38,
     "metadata": {},
     "output_type": "execute_result"
    }
   ],
   "source": [
    "list(filter(lambda x:x in resultado,price_a))"
   ]
  },
  {
   "cell_type": "markdown",
   "metadata": {},
   "source": [
    "## List Comprehension"
   ]
  },
  {
   "cell_type": "code",
   "execution_count": 39,
   "metadata": {},
   "outputs": [
    {
     "data": {
      "text/plain": [
       "[1, 0, 1, 0, 1, 0, 1, 0, 1]"
      ]
     },
     "execution_count": 39,
     "metadata": {},
     "output_type": "execute_result"
    }
   ],
   "source": [
    "map_list = [1,2,3,4,5,6,7,8,9]\n",
    "[i%2 for i in map_list]"
   ]
  },
  {
   "cell_type": "markdown",
   "metadata": {},
   "source": [
    "## Medindo o tempo de execução"
   ]
  },
  {
   "cell_type": "code",
   "execution_count": 40,
   "metadata": {},
   "outputs": [
    {
     "name": "stdout",
     "output_type": "stream",
     "text": [
      "--- 0.0 seconds ---\n"
     ]
    }
   ],
   "source": [
    "import time \n",
    "start_time = time.time() \n",
    "y = 0\n",
    "for x in range(500):\n",
    "    y = x + y\n",
    "print(\"--- %s seconds ---\" % (time.time() - start_time))"
   ]
  },
  {
   "cell_type": "markdown",
   "metadata": {},
   "source": [
    "## Exercícios"
   ]
  },
  {
   "cell_type": "markdown",
   "metadata": {},
   "source": [
    "1 - Dado um 'nested dictionary', selecione os seguintes valores:<br>\n",
    "\n",
    "* Selecione o valor de \"setup1\"\n",
    "* O maior valor da lista com os valores produzidos"
   ]
  },
  {
   "cell_type": "code",
   "execution_count": 41,
   "metadata": {},
   "outputs": [],
   "source": [
    "producao_info = {'maquina':{'setup1':21,'setup2': 0.2}, 'lista':['valores_produzidos',[23,21,22,22,19]]}"
   ]
  },
  {
   "cell_type": "code",
   "execution_count": 42,
   "metadata": {},
   "outputs": [
    {
     "data": {
      "text/plain": [
       "23"
      ]
     },
     "execution_count": 42,
     "metadata": {},
     "output_type": "execute_result"
    }
   ],
   "source": [
    "#RESOLUÇÃO\n",
    "producao_info['maquina']['setup1']\n",
    "max(producao_info['lista'][1])"
   ]
  },
  {
   "cell_type": "markdown",
   "metadata": {},
   "source": [
    "2 - Retire os outliers da lista <b>preco</b> e coloque os valores retirados em uma lista <b>valores_outliers</b><br>\n",
    "Obs.:Assuma que um outlier está acima ou abaixo de 2 desvios-padrão em relação a média.<br>\n",
    "Dica: Use a biblioteca statistics para calcular a média e o desvio."
   ]
  },
  {
   "cell_type": "code",
   "execution_count": 43,
   "metadata": {},
   "outputs": [],
   "source": [
    "preco = [15,11,10,17,12,18,23,21,18,54,21,20,13,12,11,74,14,13,65]"
   ]
  },
  {
   "cell_type": "code",
   "execution_count": 44,
   "metadata": {},
   "outputs": [
    {
     "name": "stdout",
     "output_type": "stream",
     "text": [
      "23.263157894736842 18.96148759185066\n",
      "Lista de outliers:[74, 65] \n",
      "Nova lista de preco: [15, 11, 10, 17, 12, 18, 23, 21, 18, 54, 21, 20, 13, 12, 11, 14, 13]\n"
     ]
    }
   ],
   "source": [
    "#RESOLUÇÃO\n",
    "preco = [15,11,10,17,12,18,23,21,18,54,21,20,13,12,11,74,14,13,65]\n",
    "from statistics import stdev,mean\n",
    "media_preco = mean(preco)\n",
    "desvio_preco = stdev(preco)\n",
    "print(media_preco,desvio_preco)\n",
    "\n",
    "#Filter\n",
    "valores_outliers = list(filter(lambda x: x>media_preco+2*desvio_preco or x< media_preco-2*desvio_preco,preco))\n",
    "#List Comprehension\n",
    "preco = [x for x in preco if x not in valores_outliers]\n",
    "print('Lista de outliers:{} \\n'\\\n",
    "      'Nova lista de preco: {}'.format(valores_outliers,preco))"
   ]
  }
 ],
 "metadata": {
  "kernelspec": {
   "display_name": "Python 3",
   "language": "python",
   "name": "python3"
  },
  "language_info": {
   "codemirror_mode": {
    "name": "ipython",
    "version": 3
   },
   "file_extension": ".py",
   "mimetype": "text/x-python",
   "name": "python",
   "nbconvert_exporter": "python",
   "pygments_lexer": "ipython3",
   "version": "3.7.0"
  }
 },
 "nbformat": 4,
 "nbformat_minor": 2
}
